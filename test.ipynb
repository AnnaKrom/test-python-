{
 "cells": [
  {
   "cell_type": "code",
   "execution_count": null,
   "metadata": {},
   "outputs": [],
   "source": [
    "items = [\n",
    "    {\"id\": 1, \"parent\": \"root\"},\n",
    "    {\"id\": 2, \"parent\": 1, \"type\": \"test\"},\n",
    "    {\"id\": 3, \"parent\": 1, \"type\": \"test\"},\n",
    "    {\"id\": 4, \"parent\": 2, \"type\": \"test\"},\n",
    "    {\"id\": 5, \"parent\": 2, \"type\": \"test\"},\n",
    "    {\"id\": 6, \"parent\": 2, \"type\": \"test\"},\n",
    "    {\"id\": 7, \"parent\": 4, \"type\": None},\n",
    "    {\"id\": 8, \"parent\": 4, \"type\": None}\n",
    "]\n",
    "\n"
   ]
  },
  {
   "cell_type": "code",
   "execution_count": 74,
   "metadata": {},
   "outputs": [],
   "source": [
    "class TreeStore:\n",
    "    def __init__(self, items):\n",
    "        self.items = items\n",
    "        # Словарь объектов по id\n",
    "        self.items_by_id = {item[\"id\"]: item for item in items}\n",
    "        # Словарь дочерних элементов, где ключ — это id родителя\n",
    "        self.children_by_parent = {}\n",
    "        for item in items:\n",
    "            parent = item[\"parent\"]\n",
    "            if parent not in self.children_by_parent:\n",
    "                self.children_by_parent[parent] = []\n",
    "            self.children_by_parent[parent].append(item)\n",
    "\n",
    "    def getAll(self):\n",
    "        return self.items\n",
    "\n",
    "    def getItem(self, id):\n",
    "        return self.items_by_id.get(id)\n",
    "\n",
    "    def getChildren(self, id):\n",
    "        return self.children_by_parent.get(id, [])\n",
    "\n",
    "    def getAllParents(self, id):\n",
    "        # Строим цепочку родителей, начиная от элемента с данным id\n",
    "        parents = []\n",
    "        current = self.items_by_id.get(id)\n",
    "        while current and current[\"parent\"] != \"root\":\n",
    "            parent_id = current[\"parent\"]\n",
    "            parent = self.items_by_id.get(parent_id)\n",
    "            if parent:\n",
    "                parents.append(parent)\n",
    "            current = parent\n",
    "        return parents"
   ]
  },
  {
   "cell_type": "code",
   "execution_count": 75,
   "metadata": {},
   "outputs": [
    {
     "data": {
      "text/plain": [
       "[{'id': 4, 'parent': 2, 'type': 'test'},\n",
       " {'id': 2, 'parent': 1, 'type': 'test'},\n",
       " {'id': 1, 'parent': 'root'}]"
      ]
     },
     "execution_count": 75,
     "metadata": {},
     "output_type": "execute_result"
    }
   ],
   "source": [
    "ts = TreeStore(items)\n",
    "ts.getAll()\n",
    "ts.getChildren(5)\n",
    "ts.getItem(7)\n",
    "ts.getAllParents(7)"
   ]
  }
 ],
 "metadata": {
  "kernelspec": {
   "display_name": "Python 3",
   "language": "python",
   "name": "python3"
  },
  "language_info": {
   "codemirror_mode": {
    "name": "ipython",
    "version": 3
   },
   "file_extension": ".py",
   "mimetype": "text/x-python",
   "name": "python",
   "nbconvert_exporter": "python",
   "pygments_lexer": "ipython3",
   "version": "3.9.13"
  }
 },
 "nbformat": 4,
 "nbformat_minor": 2
}
